{
 "cells": [
  {
   "cell_type": "code",
   "execution_count": 234,
   "id": "b0b4c1d5",
   "metadata": {},
   "outputs": [],
   "source": [
    "import pandas as pd "
   ]
  },
  {
   "cell_type": "code",
   "execution_count": 246,
   "id": "fb92b601",
   "metadata": {},
   "outputs": [],
   "source": [
    "DataV1 = pd.read_csv('Data/avito_cars(2).csv')\n",
    "DataV2 = pd.read_csv('Data/avito_cars(3).csv')\n",
    "DataV3 = pd.read_csv('Data/avito_cars(4).csv')\n"
   ]
  },
  {
   "cell_type": "code",
   "execution_count": 247,
   "id": "273d91ef",
   "metadata": {},
   "outputs": [],
   "source": [
    "DataSet = pd.concat([DataV1 , DataV2 , DataV3] , ignore_index=True)"
   ]
  },
  {
   "cell_type": "code",
   "execution_count": 248,
   "id": "ad9f5679",
   "metadata": {},
   "outputs": [
    {
     "name": "stdout",
     "output_type": "stream",
     "text": [
      "<class 'pandas.core.frame.DataFrame'>\n",
      "RangeIndex: 94311 entries, 0 to 94310\n",
      "Data columns (total 24 columns):\n",
      " #   Column               Non-Null Count  Dtype \n",
      "---  ------               --------------  ----- \n",
      " 0   url                  94311 non-null  object\n",
      " 1   type_boit            92054 non-null  object\n",
      " 2   type_carburant       92000 non-null  object\n",
      " 3   kilometrage          91967 non-null  object\n",
      " 4   marke                91965 non-null  object\n",
      " 5   model                91870 non-null  object\n",
      " 6   puissance            91623 non-null  object\n",
      " 7   price                71486 non-null  object\n",
      " 8   has_abs              94311 non-null  int64 \n",
      " 9   has_airbags          94311 non-null  int64 \n",
      " 10  has_bluetooth_audio  94311 non-null  int64 \n",
      " 11  has_rear_camera      94311 non-null  int64 \n",
      " 12  has_ac               94311 non-null  int64 \n",
      " 13  has_esp              94311 non-null  int64 \n",
      " 14  has_alloy_wheels     94311 non-null  int64 \n",
      " 15  has_speed_limiter    94311 non-null  int64 \n",
      " 16  has_trip_computer    94311 non-null  int64 \n",
      " 17  has_parking_sensor   94311 non-null  int64 \n",
      " 18  has_cruise_control   94311 non-null  int64 \n",
      " 19  has_leather_seats    94311 non-null  int64 \n",
      " 20  has_gps              94311 non-null  int64 \n",
      " 21  has_sunroof          94311 non-null  int64 \n",
      " 22  has_remote_locking   94311 non-null  int64 \n",
      " 23  has_power_windows    94311 non-null  int64 \n",
      "dtypes: int64(16), object(8)\n",
      "memory usage: 17.3+ MB\n",
      "None\n"
     ]
    }
   ],
   "source": [
    "print(DataSet.info())"
   ]
  },
  {
   "cell_type": "markdown",
   "id": "11ba0d2d",
   "metadata": {},
   "source": [
    "### Remove None Values"
   ]
  },
  {
   "cell_type": "code",
   "execution_count": 249,
   "id": "6911fe27",
   "metadata": {},
   "outputs": [],
   "source": [
    "DataSet = DataSet.dropna(subset=['price'])\n",
    "DataSet = DataSet.dropna(subset=['type_boit'])\n",
    "DataSet = DataSet.dropna(subset=['type_carburant'])\n",
    "DataSet = DataSet.dropna(subset=['kilometrage'])\n",
    "DataSet = DataSet.dropna(subset=['marke'])\n",
    "DataSet = DataSet.dropna(subset=['model'])\n",
    "DataSet = DataSet.dropna(subset=['puissance'])\n",
    "DataSet = DataSet.dropna(subset=['price'])\n"
   ]
  },
  {
   "cell_type": "code",
   "execution_count": 250,
   "id": "c8dbb804",
   "metadata": {},
   "outputs": [
    {
     "name": "stdout",
     "output_type": "stream",
     "text": [
      "<class 'pandas.core.frame.DataFrame'>\n",
      "Index: 69207 entries, 3 to 94309\n",
      "Data columns (total 24 columns):\n",
      " #   Column               Non-Null Count  Dtype \n",
      "---  ------               --------------  ----- \n",
      " 0   url                  69207 non-null  object\n",
      " 1   type_boit            69207 non-null  object\n",
      " 2   type_carburant       69207 non-null  object\n",
      " 3   kilometrage          69207 non-null  object\n",
      " 4   marke                69207 non-null  object\n",
      " 5   model                69207 non-null  object\n",
      " 6   puissance            69207 non-null  object\n",
      " 7   price                69207 non-null  object\n",
      " 8   has_abs              69207 non-null  int64 \n",
      " 9   has_airbags          69207 non-null  int64 \n",
      " 10  has_bluetooth_audio  69207 non-null  int64 \n",
      " 11  has_rear_camera      69207 non-null  int64 \n",
      " 12  has_ac               69207 non-null  int64 \n",
      " 13  has_esp              69207 non-null  int64 \n",
      " 14  has_alloy_wheels     69207 non-null  int64 \n",
      " 15  has_speed_limiter    69207 non-null  int64 \n",
      " 16  has_trip_computer    69207 non-null  int64 \n",
      " 17  has_parking_sensor   69207 non-null  int64 \n",
      " 18  has_cruise_control   69207 non-null  int64 \n",
      " 19  has_leather_seats    69207 non-null  int64 \n",
      " 20  has_gps              69207 non-null  int64 \n",
      " 21  has_sunroof          69207 non-null  int64 \n",
      " 22  has_remote_locking   69207 non-null  int64 \n",
      " 23  has_power_windows    69207 non-null  int64 \n",
      "dtypes: int64(16), object(8)\n",
      "memory usage: 13.2+ MB\n",
      "None\n"
     ]
    }
   ],
   "source": [
    "print(DataSet.info())"
   ]
  },
  {
   "cell_type": "markdown",
   "id": "d1e53126",
   "metadata": {},
   "source": [
    "### Remove Duplicate Values"
   ]
  },
  {
   "cell_type": "code",
   "execution_count": 251,
   "id": "3aaf50f2",
   "metadata": {},
   "outputs": [],
   "source": [
    "DataSet = DataSet.drop_duplicates(subset='url', keep='first')"
   ]
  },
  {
   "cell_type": "code",
   "execution_count": 252,
   "id": "53a3d420",
   "metadata": {},
   "outputs": [],
   "source": [
    "DataSet = DataSet.reset_index()"
   ]
  },
  {
   "cell_type": "markdown",
   "id": "db23b555",
   "metadata": {},
   "source": [
    "### Cleaning Price "
   ]
  },
  {
   "cell_type": "code",
   "execution_count": 253,
   "id": "30a32d6d",
   "metadata": {},
   "outputs": [],
   "source": [
    "DataSet['price'] = DataSet['price'].str.replace('DH', '', regex=False).str.replace('\\u202f' , '').str.replace(' ' , '').astype(float)\n"
   ]
  },
  {
   "cell_type": "markdown",
   "id": "93183a56",
   "metadata": {},
   "source": [
    "### Cleaning Kilometrage"
   ]
  },
  {
   "cell_type": "code",
   "execution_count": 267,
   "id": "b4679ed6",
   "metadata": {},
   "outputs": [],
   "source": [
    "DataSet = DataSet[~DataSet['kilometrage'].isin(['Mitsubishi', 'BYD' , 'Skoda' , 'BMW' , 'Volvo' ,'Chevrolet', \n",
    " 'Dacia' , 'Renault'   , 'Volkswagen'  , 'Fiat' , 'Peugeot' , 'Audi' , 'Mercedes-Benz' ,     'Citroen', \n",
    "'Opel' , 'Toyota' , 'Ford'  , 'Seat' , 'Kia', 'Honda', \n",
    "'Hyundai',                 \n",
    "'Mini',                    \n",
    "'Land Rover' ,               \n",
    "'Nissan',                  \n",
    "'Alfa Romeo'                                                               \n",
    "])]"
   ]
  },
  {
   "cell_type": "code",
   "execution_count": 269,
   "id": "1c234a9f",
   "metadata": {},
   "outputs": [],
   "source": [
    "def clean_kilometrage_column(row):\n",
    "        parts = row.split('-')\n",
    "        kilometrage = []\n",
    "        for k in parts:\n",
    "            if 'Plus de' in k:\n",
    "                  k = k.replace('Plus de', '')  \n",
    "            ki = k.replace(' ', '')\n",
    "            ki = int(ki)\n",
    "            kilometrage.append(ki)\n",
    "        return kilometrage\n",
    "        \n",
    "DataSet['kilometrage'] = DataSet['kilometrage'].apply(clean_kilometrage_column)"
   ]
  },
  {
   "cell_type": "markdown",
   "id": "dcb4ac86",
   "metadata": {},
   "source": [
    "### Cleaning Puissance"
   ]
  },
  {
   "cell_type": "code",
   "execution_count": 270,
   "id": "9724eacc",
   "metadata": {},
   "outputs": [],
   "source": [
    "def clean_puissance_column(row):\n",
    "    if 'Plus de' in row:\n",
    "            row = row.replace('Plus de', '')  \n",
    "    row = row.replace('CV', '')\n",
    "    row = row.replace(' ', '')\n",
    "    row = int(row)\n",
    "    return row\n",
    "DataSet['puissance'] = DataSet['puissance'].apply(clean_puissance_column)"
   ]
  },
  {
   "cell_type": "code",
   "execution_count": 299,
   "id": "ac9872fe",
   "metadata": {},
   "outputs": [
    {
     "name": "stdout",
     "output_type": "stream",
     "text": [
      "['essence' 'diesel' 'hybride' 'electrique' 'lpg']\n",
      "type_carburant\n",
      "diesel        50899\n",
      "electrique      168\n",
      "essence       12571\n",
      "hybride         659\n",
      "lpg              36\n",
      "Name: count, dtype: int64\n"
     ]
    }
   ],
   "source": [
    "DataSet['type_carburant'] = DataSet['type_carburant'].str.lower()\n",
    "print(DataSet['type_carburant'].unique())\n",
    "print(DataSet.groupby('type_carburant')['type_carburant'].value_counts())\n"
   ]
  },
  {
   "cell_type": "code",
   "execution_count": 297,
   "id": "c32e03da",
   "metadata": {},
   "outputs": [
    {
     "name": "stdout",
     "output_type": "stream",
     "text": [
      "['manuelle' 'automatique']\n"
     ]
    }
   ],
   "source": [
    "DataSet['type_boit'] = DataSet['type_boit'].str.lower()\n",
    "print(DataSet['type_boit'].unique())"
   ]
  },
  {
   "cell_type": "code",
   "execution_count": null,
   "id": "714fcf3e",
   "metadata": {},
   "outputs": [
    {
     "name": "stdout",
     "output_type": "stream",
     "text": [
      "['opel' 'kia' 'volkswagen' 'toyota' 'mercedes-benz' 'dacia' 'honda'\n",
      " 'hyundai' 'ford' 'land rover' 'citroen' 'renault' 'peugeot' 'jeep' 'bmw'\n",
      " 'jaguar' 'seat' 'nissan' 'mitsubishi' 'chevrolet' 'ssangyong' 'fiat'\n",
      " 'alfa romeo' 'audi' 'skoda' 'mahindra' 'cupra' 'chery' 'mini' 'porsche'\n",
      " 'tesla' 'maserati' 'foton' 'volvo' 'bentley' 'abarth' 'daihatsu' 'subaru'\n",
      " 'suzuki' 'ds' 'mazda' 'lexus' 'dfsk' 'changan' 'gmc' 'mg' 'lancia' 'faw'\n",
      " 'geely' 'isuzu' 'rover' 'iveco' 'autres' 'infiniti' 'daewoo' 'cadillac'\n",
      " 'chrysler' 'tata' 'dodge' 'byd' 'gwm motors' 'gaz' 'smart' 'seres'\n",
      " 'zotye' 'changhe' 'ferrari' 'hummer' 'lifan' 'ac' 'ufo' 'rolls-royce'\n",
      " 'lada']\n"
     ]
    }
   ],
   "source": [
    "DataSet['marke'] = DataSet['marke'].str.lower()\n",
    "print(DataSet['marke'].unique())"
   ]
  },
  {
   "cell_type": "code",
   "execution_count": 303,
   "id": "0dd4ba6f",
   "metadata": {},
   "outputs": [
    {
     "name": "stdout",
     "output_type": "stream",
     "text": [
      "['Adam' 'Picanto' 'Golf 7' 'Corolla' 'Golf 2' 'GLB' 'Dokker' 'CR-V'\n",
      " 'Accent' 'Logan' 'Classe A' 'Kuga' 'Yaris' 'Range Rover Sport' 'C5'\n",
      " 'Focus' 'C4' 'Megane' 'Range Rover Vogue' 'Classe E' 'Sandero' '2008'\n",
      " 'Sportage' 'Duster' 'Touareg' 'Grand Cherokee' 'Série 1' 'Passat' 'C-HR'\n",
      " 'Série 5' 'X-Type' 'Tepee' 'Boxer' 'Polo' 'Leon' 'Caddy'\n",
      " 'Range Rover Velar' 'Fiesta' 'Micra' 'L200' 'Spark' 'Combo' 'Kyron' '500'\n",
      " 'Golf 6' 'X5' 'Tiguan' 'Giulietta' 'Q3' 'Octavia' '301' '208' 'C-Elysée'\n",
      " 'i30' '5008' 'Berlingo' 'Fiorino' 'Tucson' 'Touran' 'Captur' '3008'\n",
      " 'E-Pace' '220' 'Jetta' 'Scenic' 'Range Rover' 'Compass' 'Outlander'\n",
      " 'Ecosport' 'Classe GLC' 'KUV 100' 'Wrangler' 'Passat CC' 'Arona' 'Hilux'\n",
      " 'Tipo' 'Range Rover Evoque' '308' 'C3' 'Corsa' 'Tiggo' 'Clio' 'Cooper'\n",
      " 'RAV 4' 'Golf 8' 'Classe GLA' 'Classe S' 'Cayenne' 'Navara' 'Kodiaq'\n",
      " 'Talisman' 'Renegade' 'Model 3' 'Cherokee' 'ix35' 'XF' 'Q5' 'Série 4'\n",
      " 'Santa Fe' 'Lodgy' 'Levante' 'Express' 'T-Roc' 'Ateca' 'Classe C'\n",
      " 'Classe G' 'Formentor' 'Discovery' 'Mondeo' 'Série 6' 'Classe ML'\n",
      " 'Série 7' 'A6' 'Q8' 'Creta' 'A5' 'Golf 5' 'A8' 'Panamera' 'Astra' 'A3'\n",
      " 'Carens' 'Koleos' 'Mokka' 'i20' 'X-Trail' 'Q7' '407' 'Forland' 'i10'\n",
      " 'Panda' '106' 'Juke' 'Sorento' 'Ghibli' 'Qashqai' 'Crossland' 'X3' 'XC90'\n",
      " 'Karoq' 'Twizy' 'Classe CLA' 'Continental S' '595' 'K5' 'Super 5' 'YRV'\n",
      " 'Ka' 'Master' 'R5' '206' 'Cerato' 'Fullback' 'ix55' 'Mini Coupé' 'One'\n",
      " 'Doblo' '508' '306' 'Legacy' 'X4' 'Palio' 'Arteon' 'A4' 'Ibiza' 'Ceed'\n",
      " 'Gol' 'Grand Vitara' 'DS7' 'Twingo' 'Uno' '500C' 'V40' 'Partner' 'XC40'\n",
      " 'Bayon' 'S60' '500X' '207' 'Kangoo' 'Superb' 'XC60' 'Macan' 'Defender'\n",
      " 'Niro' 'Tonale' 'Austral' 'Fusion' 'X6' 'Ranger' 'Altea' 'Stelvio'\n",
      " 'Giulia' 'S40' '309' 'Avenger' 'Freelander' 'Swift' 'Note' 'Prado'\n",
      " 'Mustang' 'Classe GLE' 'Classe CLS' '911' 'H-100' 'DS' 'Arkana' 'Mazda 2'\n",
      " 'Elantra' 'Kadjar' 'S90' 'Ioniq 5' 'X1' 'Ioniq Hybrid' 'Série 3' 'F-Pace'\n",
      " 'LS' '250' 'Siena' 'HR-V' 'Golf 4' 'XJ' 'C15' 'Q2' 'Grandland' 'XE' 'Eos'\n",
      " 'EQE' 'Golf 3' 'Glory 500' '14' 'Classe B' 'Laguna' '4C' 'Civic' '400'\n",
      " 'Maruti' 'Punto' '405' 'Carry' 'Coccinelle' 'Kona' 'Korando' 'Symbol'\n",
      " 'Kadett' '504' 'Celerio' 'Transit' '190' 'Aveo' '205' 'Saxo' 'Lancer'\n",
      " 'Hi Ace' '12' 'Alto' 'SX 4' 'DS4' '406' 'Multipla' 'S80' 'Logo' 'Accord'\n",
      " '240' 'Rexton' '19' 'Genesis' 'Ami' 'Model Y' '307' 'Jolion' 'Cruze'\n",
      " 'Mito' 'Corolla Verso' 'Freemont' 'Yukon' '270' 'MG3' 'Pajero Sport' 'A7'\n",
      " 'ES' 'Thema' 'Land Cruiser' 'Ducato' 'X40' 'Corolla Cross' 'Classe GL'\n",
      " 'Captiva' 'Rifter' 'Glory 580' 'Glory IX5' '230' 'i40' '500L' 'B-Max'\n",
      " 'COOLRAY' '159' 'Modus' 'Opirus' 'Sonata' 'Lantra' 'Pathfinder'\n",
      " 'CountryMan' 'C1' 'Sirion' 'Yeti' 'R4' 'Sharan' 'I.D.Crozz' 'C-Max'\n",
      " 'Vel Satis' 'Auris' 'Grand Scenic' 'Verso' 'Bora' 'Vito' 'Albea' 'C30'\n",
      " 'S70' 'Proceed' 'K05' 'S-cross' 'X2' 'Grand Espace' 'Jazz' '350Z' 'Optra'\n",
      " 'Atos' 'Landwind' '607' 'Insignia' '80' 'Bipper' 'R9' '404' 'Jimny'\n",
      " 'Pick up' 'Golf Plus' 'Espace' 'Hover' 'City' 'Discovery Sport' 'Xsara'\n",
      " 'Mazda 5' 'Rio' 'Tempra' 'Delta' '147' 'Rapid' 'Ypsilon' 'i3'\n",
      " 'Classe GLK' 'Vento' 'R11' 'Zafira' 'Zoe' '107' 'Solenza' 'Serie 400'\n",
      " 'Altea XL' 'Connect' 'R18' 'Grande Punto' 'Almera' 'Getz' 'Daily'\n",
      " 'Orlando' 'Pajero' 'Felicia' 'DS5' 'MG5' 'Stavic' 'Latitude' 'Escort'\n",
      " 'Autres' 'FX35' 'Cordoba' 'Kamiq' 'Fabia' 'Actyon' 'Matiz' 'C2' 'Fluence'\n",
      " 'Escalade' 'K01' 'QQ' 'Seltos' 'D-Max' 'Classe CLC' 'R19' 'Baleno'\n",
      " 'Mohave' 'New Beetle' 'Trafic' '16' 'H-1' '207D' 'Avensis' 'Scudo'\n",
      " 'Prius' 'K2700' 'K01h' 'XG' 'Sprinter' 'A1' '310D' 'Family' 'Vitara'\n",
      " 'Murano' '560' 'Tiida' 'BT-50' 'Chaser' 'Scorpio' 'Sebring' 'Mazda 6'\n",
      " 'Sonet' 'Classe V' 'NX' 'Xenon' 'Bravo' 'Agila' 'Xantia' 'Toledo' 'Lanos'\n",
      " 'Scala' 'Série 2' 'J5' 'Aygo' 'Optima' 'Super cab' '280' 'Landtrek'\n",
      " 'Alero' 'Antara' 'Grandis' 'Talento' 'X7' 'SM' 'County' 'Transporter'\n",
      " 'Vectra' 'Sunny' 'Terios' 'Caravelle' 'Tourneo' 'Campo' 'Lexus' 'Soul'\n",
      " 'F-Type' 'K2500' 'Evalia' 'Copen' 'Fortuner' 'Terrano' '2 CV' 'AX' 'CX-5'\n",
      " 'Meriva' 'Coupe' 'MG4' 'GT' 'LC' 'Boss' 'Amarok' '108' 'A113' 'Aerio'\n",
      " 'Canter' 'Veracruz' 'raptor' '600e' 'Caliber' 'Wagon R' 'iX3'\n",
      " 'Classe CLK' '300' 'Stilo' 'Dzire' 'Mazda 3' 'Kubistar' 'Hatch' 'HS Phev'\n",
      " 'R21' 'Primera' 'F3' 'Astro' 'Seres 3' 'Florid' '166' 'Prelude' 'K01s'\n",
      " 'A516' 'Next Van' 'Cougar' '75' 'Tercel' 'DS3' 'Urban Cruiser' '403'\n",
      " 'Liberty' 'Citan' 'AMG GT' 'Colt' 'Vigor' 'Bedford' 'E-Golf' 'Brava'\n",
      " 'R25' 'Stinger' 'Spring' 'A2' 'Nemo' 'Viano' 'Acty' 'Fox' 'Model S'\n",
      " '124 Spider' 'Tigra' 'Serie 200' 'Avantime' 'Q4 e-tron' 'Série 8' '408'\n",
      " 'ForTwo' 'Everest' 'Maxima' 'Legend' '4008' 'Expert' 'TM' 'Odyssey' '156'\n",
      " 'Frontera' 'Galaxy' 'Nubira SW' 'QQ6' 'CS55' 'Continental GT' 'Classe R'\n",
      " 'Starlet' 'Scirocco' 'S-Presso' 'BLS' 'Tundra' 'Sonica' 'POER' 'H' 'GTR'\n",
      " '104' 'Bertone' 'Terracan' '305' '25' 'Ignis' 'EX35' 'ds7' 'Jumpy'\n",
      " 'Trooper' 'Movano' 'S-Max' '126' 'Spacetourer' '323' 'Linea' 'J9'\n",
      " 'Classe SL' 'XLV' '127' 'MX-6' 'Traveller' '210' 'Nomad' '718 Cayman'\n",
      " 'Carnival' 'Ideal' 'SLS AMG' 'California' 'El Camino' 'Crafter' 'GX3 PRO'\n",
      " 'Multivan' 'RCZ' '240SX' 'Visa' 'C31' '4007' 'Croma' 'MK-GL' 'Jumper'\n",
      " 'Calibra' 'Tiggo 7 Pro' 'DS6' 'Inca' 'ZS' 'Veloster' '8C' 'PT Cruiser'\n",
      " 'Patriot' '4Runner' 'Burstner' 'Nevada' 'C8' 'ZX' 'Smart' '505' '300 C'\n",
      " 'Impreza' '30' 'Grand Voyager' 'Besta' 'Serie 600' 'Nexia' 'H2' 'CX-9'\n",
      " 'ix 5' 'Exeo' 'Samsung SM3' 'Golf 1' 'Liana' 'Expedition' 'CX-7'\n",
      " 'Super Ace' 'BX' 'Alhambra' 'NSX' 'MX-3' 'Classe CL' 'Corona' 'Z3'\n",
      " 'Excel' 'FX50' 'APV' 'CinqueCento' 'HHR' 'Caprice' 'XUV 500' '605' '807'\n",
      " 'G35' 'Regata' '155' 'Lacetti' 'Fuego' 'MG HS' 'Brera' 'Edge' 'K01i'\n",
      " '806' 'Urvan' 'Ritmo' 'Vaneo' 'Galloper' 'Nativa' 'Sephia' 'Arosa'\n",
      " 'Arnage' 'Patrol' 'Tribeca' 'Lupo' 'ID.3' 'Phaeton' 'Camaro' 'Victoria'\n",
      " 'Fleetwood' 'Roomster' 'Kicks' '1007' 'V525' 'Splash' 'UP' 'V60' 'H-200'\n",
      " '45' 'Evanda' 'CTS' '320' '410' 'Satellite' 'GT 40' 'Tarraco' 'Concerto'\n",
      " '300 M' 'Trajet' 'C6' 'GK-GT' 'Rogue' 'GS 350' 'V90' 'C-Crosser' 'Cayman'\n",
      " '608' '131' 'Serena' 'CMP' 'Espero' '412' 'Vios' 'CX' 'Classe GLS'\n",
      " 'Parati' 'X-90' 'TT' 'Classe SLK' 'Tivoli' 'Boxster' 'F350' 'e-tron'\n",
      " 'Rodius' 'S-Type' 'Courrier' 'Next' 'Tahoe' 'Kalos' 'C35' 'RX' 'Sovreign'\n",
      " 'Omega' 'F1' 'Pick-Up' 'Trakker' 'Escape' 'Wingle 5' 'Serie 800' 'Vivaro'\n",
      " 'Crown Victoria' 'Centennial' '145' 'Kaisser' 'Samurai' 'SeiCento'\n",
      " 'Barchetta' 'Pregio' 'XLR' 'Ciaz' '626' 'Insight' 'Aerodeck' 'XL7'\n",
      " 'Ascona' 'MR' 'Capri' 'Serie 100' 'Cobra' 'E2000' '260' 'SD1'\n",
      " 'Trans Sport' 'FJ' 'DTS' 'Primastar' 'RV3' 'Taycan' 'Epica' 'Versa' 'C70'\n",
      " 'Estafette' 'F150' 'MB' 'Wraith' 'Suburban' 'Carina' 'Corvette' 'iX'\n",
      " 'Safrane' 'Thing' 'SSR' '2107' 'Minibus' 'V70' 'Altima' 'Uplander'\n",
      " 'MK-GT' 'Karman' 'CR8' 'Streetwise' 'Clubman' 'Marea' '200' 'Utilitaire'\n",
      " 'Picnic' 'GK-GL' 'Rekord' '304' 'BK' 'Ceo' 'B110' 'Avalanche'\n",
      " 'Quattroporte' 'Cadenza' 'DeVille' '204' 'C25' 'B 2500' 'Model X'\n",
      " 'Quoris' 'Seven' 'Matrix' 'Metro' 'Commander' 'Tino' 'CJ5' 'Stream'\n",
      " 'Orion']\n"
     ]
    }
   ],
   "source": [
    "print(DataSet['model'].unique())"
   ]
  }
 ],
 "metadata": {
  "kernelspec": {
   "display_name": "Python 3",
   "language": "python",
   "name": "python3"
  },
  "language_info": {
   "codemirror_mode": {
    "name": "ipython",
    "version": 3
   },
   "file_extension": ".py",
   "mimetype": "text/x-python",
   "name": "python",
   "nbconvert_exporter": "python",
   "pygments_lexer": "ipython3",
   "version": "3.11.5"
  }
 },
 "nbformat": 4,
 "nbformat_minor": 5
}
