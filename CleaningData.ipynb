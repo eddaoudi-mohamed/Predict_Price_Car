{
 "cells": [
  {
   "cell_type": "code",
   "execution_count": 16,
   "id": "b0b4c1d5",
   "metadata": {},
   "outputs": [],
   "source": [
    "import pandas as pd "
   ]
  },
  {
   "cell_type": "code",
   "execution_count": 17,
   "id": "fb92b601",
   "metadata": {},
   "outputs": [],
   "source": [
    "DataV1 = pd.read_csv('Data/avito_cars_data(7).csv')\n",
    "DataV2 = pd.read_csv('Data/avito_cars_data(8).csv')"
   ]
  },
  {
   "cell_type": "code",
   "execution_count": 18,
   "id": "273d91ef",
   "metadata": {},
   "outputs": [],
   "source": [
    "DataSet = pd.concat([DataV1 , DataV2] , ignore_index=True)"
   ]
  },
  {
   "cell_type": "code",
   "execution_count": 19,
   "id": "ad9f5679",
   "metadata": {},
   "outputs": [
    {
     "name": "stdout",
     "output_type": "stream",
     "text": [
      "<class 'pandas.core.frame.DataFrame'>\n",
      "RangeIndex: 72295 entries, 0 to 72294\n",
      "Data columns (total 8 columns):\n",
      " #   Column          Non-Null Count  Dtype \n",
      "---  ------          --------------  ----- \n",
      " 0   url             72295 non-null  object\n",
      " 1   type_boit       46959 non-null  object\n",
      " 2   type_carburant  46913 non-null  object\n",
      " 3   kilometrage     46913 non-null  object\n",
      " 4   marke           46913 non-null  object\n",
      " 5   model           46913 non-null  object\n",
      " 6   puissance       46959 non-null  object\n",
      " 7   price           47437 non-null  object\n",
      "dtypes: object(8)\n",
      "memory usage: 4.4+ MB\n",
      "None\n"
     ]
    }
   ],
   "source": [
    "print(DataSet.info())"
   ]
  },
  {
   "cell_type": "code",
   "execution_count": 28,
   "id": "6911fe27",
   "metadata": {},
   "outputs": [],
   "source": [
    "DataSet = DataSet.dropna(subset=['price'])\n",
    "DataSet = DataSet.dropna(subset=['type_boit'])\n",
    "DataSet = DataSet.dropna(subset=['type_carburant'])\n",
    "DataSet = DataSet.dropna(subset=['kilometrage'])\n",
    "DataSet = DataSet.dropna(subset=['marke'])\n",
    "DataSet = DataSet.dropna(subset=['model'])\n",
    "DataSet = DataSet.dropna(subset=['puissance'])\n",
    "DataSet = DataSet.dropna(subset=['price'])\n"
   ]
  },
  {
   "cell_type": "code",
   "execution_count": 31,
   "id": "c8dbb804",
   "metadata": {},
   "outputs": [
    {
     "name": "stdout",
     "output_type": "stream",
     "text": [
      "<class 'pandas.core.frame.DataFrame'>\n",
      "Index: 29836 entries, 2 to 72294\n",
      "Data columns (total 8 columns):\n",
      " #   Column          Non-Null Count  Dtype \n",
      "---  ------          --------------  ----- \n",
      " 0   url             29836 non-null  object\n",
      " 1   type_boit       29836 non-null  object\n",
      " 2   type_carburant  29836 non-null  object\n",
      " 3   kilometrage     29836 non-null  object\n",
      " 4   marke           29836 non-null  object\n",
      " 5   model           29836 non-null  object\n",
      " 6   puissance       29836 non-null  object\n",
      " 7   price           29836 non-null  object\n",
      "dtypes: object(8)\n",
      "memory usage: 2.0+ MB\n",
      "None\n"
     ]
    }
   ],
   "source": [
    "print(DataSet.info())"
   ]
  },
  {
   "cell_type": "code",
   "execution_count": 62,
   "id": "732232c9",
   "metadata": {},
   "outputs": [
    {
     "name": "stdout",
     "output_type": "stream",
     "text": [
      "                                                     url    type_boit  \\\n",
      "2      https://www.avito.ma/fr/ain_sebaa/voitures_d'o...     Manuelle   \n",
      "4      https://www.avito.ma/fr/ain_sebaa/voitures_d'o...  Automatique   \n",
      "6      https://www.avito.ma/fr/2_mars/voitures_d'occa...     Manuelle   \n",
      "7      https://www.avito.ma/fr/ain_sebaa/voitures_d'o...  Automatique   \n",
      "9      https://www.avito.ma/fr/route_d'immouzere/voit...     Manuelle   \n",
      "...                                                  ...          ...   \n",
      "72286  https://www.avito.ma/fr/khouribga/voitures_d'o...     Manuelle   \n",
      "72288  https://www.avito.ma/fr/ahlane/voitures_d'occa...     Manuelle   \n",
      "72291  https://www.avito.ma/fr/khemisset/voitures_d'o...  Automatique   \n",
      "72292  https://www.avito.ma/fr/sidi_maarouf/voitures_...  Automatique   \n",
      "72294  https://www.avito.ma/fr/californie/voitures_d'...  Automatique   \n",
      "\n",
      "      type_carburant        kilometrage          marke     model puissance  \\\n",
      "2             Diesel    40 000 - 44 999        Peugeot       208      6 CV   \n",
      "4            Essence    90 000 - 94 999         Nissan   Qashqai      8 CV   \n",
      "6             Diesel  170 000 - 179 999        Renault    Megane      7 CV   \n",
      "7             Diesel    90 000 - 94 999          Dacia    Duster      7 CV   \n",
      "9             Diesel    95 000 - 99 999        Renault      Clio      6 CV   \n",
      "...              ...                ...            ...       ...       ...   \n",
      "72286         Diesel    30 000 - 34 999        Citroen        C4      6 CV   \n",
      "72288         Diesel  110 000 - 119 999        Peugeot       208      6 CV   \n",
      "72291         Diesel  130 000 - 139 999     Volkswagen    Tiguan      8 CV   \n",
      "72292         Diesel  190 000 - 199 999     Volkswagen   Touareg     12 CV   \n",
      "72294         Diesel    15 000 - 19 999  Mercedes-Benz  Classe A      8 CV   \n",
      "\n",
      "            price  \n",
      "2      174 000 DH  \n",
      "4      239 000 DH  \n",
      "6       75 000 DH  \n",
      "7      194 000 DH  \n",
      "9      113 000 DH  \n",
      "...           ...  \n",
      "72286   95 000 DH  \n",
      "72288  124 000 DH  \n",
      "72291  233 000 DH  \n",
      "72292  138 000 DH  \n",
      "72294  430 000 DH  \n",
      "\n",
      "[29836 rows x 8 columns]\n"
     ]
    }
   ],
   "source": [
    "print(DataSet)"
   ]
  }
 ],
 "metadata": {
  "kernelspec": {
   "display_name": "Python 3",
   "language": "python",
   "name": "python3"
  },
  "language_info": {
   "codemirror_mode": {
    "name": "ipython",
    "version": 3
   },
   "file_extension": ".py",
   "mimetype": "text/x-python",
   "name": "python",
   "nbconvert_exporter": "python",
   "pygments_lexer": "ipython3",
   "version": "3.11.5"
  }
 },
 "nbformat": 4,
 "nbformat_minor": 5
}
