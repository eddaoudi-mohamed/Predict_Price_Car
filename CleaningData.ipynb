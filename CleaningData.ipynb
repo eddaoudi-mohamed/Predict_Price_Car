{
 "cells": [
  {
   "cell_type": "code",
   "execution_count": 2,
   "id": "b0b4c1d5",
   "metadata": {},
   "outputs": [],
   "source": [
    "import pandas as pd "
   ]
  },
  {
   "cell_type": "code",
   "execution_count": 3,
   "id": "fb92b601",
   "metadata": {},
   "outputs": [],
   "source": [
    "DataV1 = pd.read_csv('Data/avito_cars_data(7).csv')\n",
    "DataV2 = pd.read_csv('Data/avito_cars_data(8).csv')\n",
    "DataV3 = pd.read_csv('Data/avito_cars_data(9).csv')"
   ]
  },
  {
   "cell_type": "code",
   "execution_count": 4,
   "id": "273d91ef",
   "metadata": {},
   "outputs": [],
   "source": [
    "DataSet = pd.concat([DataV1 , DataV2 ,DataV3 ] , ignore_index=True)"
   ]
  },
  {
   "cell_type": "code",
   "execution_count": 5,
   "id": "ad9f5679",
   "metadata": {},
   "outputs": [
    {
     "name": "stdout",
     "output_type": "stream",
     "text": [
      "<class 'pandas.core.frame.DataFrame'>\n",
      "RangeIndex: 87103 entries, 0 to 87102\n",
      "Data columns (total 8 columns):\n",
      " #   Column          Non-Null Count  Dtype \n",
      "---  ------          --------------  ----- \n",
      " 0   url             87103 non-null  object\n",
      " 1   type_boit       54804 non-null  object\n",
      " 2   type_carburant  54758 non-null  object\n",
      " 3   kilometrage     54758 non-null  object\n",
      " 4   marke           54758 non-null  object\n",
      " 5   model           54758 non-null  object\n",
      " 6   puissance       54804 non-null  object\n",
      " 7   price           56135 non-null  object\n",
      "dtypes: object(8)\n",
      "memory usage: 5.3+ MB\n",
      "None\n"
     ]
    }
   ],
   "source": [
    "print(DataSet.info())"
   ]
  },
  {
   "cell_type": "code",
   "execution_count": 6,
   "id": "6911fe27",
   "metadata": {},
   "outputs": [],
   "source": [
    "DataSet = DataSet.dropna(subset=['price'])\n",
    "DataSet = DataSet.dropna(subset=['type_boit'])\n",
    "DataSet = DataSet.dropna(subset=['type_carburant'])\n",
    "DataSet = DataSet.dropna(subset=['kilometrage'])\n",
    "DataSet = DataSet.dropna(subset=['marke'])\n",
    "DataSet = DataSet.dropna(subset=['model'])\n",
    "DataSet = DataSet.dropna(subset=['puissance'])\n",
    "DataSet = DataSet.dropna(subset=['price'])\n"
   ]
  },
  {
   "cell_type": "code",
   "execution_count": 7,
   "id": "c8dbb804",
   "metadata": {},
   "outputs": [
    {
     "name": "stdout",
     "output_type": "stream",
     "text": [
      "<class 'pandas.core.frame.DataFrame'>\n",
      "Index: 34702 entries, 2 to 87102\n",
      "Data columns (total 8 columns):\n",
      " #   Column          Non-Null Count  Dtype \n",
      "---  ------          --------------  ----- \n",
      " 0   url             34702 non-null  object\n",
      " 1   type_boit       34702 non-null  object\n",
      " 2   type_carburant  34702 non-null  object\n",
      " 3   kilometrage     34702 non-null  object\n",
      " 4   marke           34702 non-null  object\n",
      " 5   model           34702 non-null  object\n",
      " 6   puissance       34702 non-null  object\n",
      " 7   price           34702 non-null  object\n",
      "dtypes: object(8)\n",
      "memory usage: 2.4+ MB\n",
      "None\n"
     ]
    }
   ],
   "source": [
    "print(DataSet.info())"
   ]
  },
  {
   "cell_type": "code",
   "execution_count": 8,
   "id": "732232c9",
   "metadata": {},
   "outputs": [
    {
     "name": "stdout",
     "output_type": "stream",
     "text": [
      "                                                     url    type_boit  \\\n",
      "2      https://www.avito.ma/fr/ain_sebaa/voitures_d'o...     Manuelle   \n",
      "4      https://www.avito.ma/fr/ain_sebaa/voitures_d'o...  Automatique   \n",
      "6      https://www.avito.ma/fr/2_mars/voitures_d'occa...     Manuelle   \n",
      "7      https://www.avito.ma/fr/ain_sebaa/voitures_d'o...  Automatique   \n",
      "9      https://www.avito.ma/fr/route_d'immouzere/voit...     Manuelle   \n",
      "...                                                  ...          ...   \n",
      "87091  https://www.avito.ma/fr/oulfa/voitures_d'occas...  Automatique   \n",
      "87094  https://www.avito.ma/fr/centre/voitures_d'occa...  Automatique   \n",
      "87097  https://www.avito.ma/fr/autre_secteur/voitures...     Manuelle   \n",
      "87101  https://www.avito.ma/fr/autre_secteur/voitures...     Manuelle   \n",
      "87102  https://www.avito.ma/fr/autre_secteur/voitures...     Manuelle   \n",
      "\n",
      "      type_carburant        kilometrage    marke     model puissance  \\\n",
      "2             Diesel    40 000 - 44 999  Peugeot       208      6 CV   \n",
      "4            Essence    90 000 - 94 999   Nissan   Qashqai      8 CV   \n",
      "6             Diesel  170 000 - 179 999  Renault    Megane      7 CV   \n",
      "7             Diesel    90 000 - 94 999    Dacia    Duster      7 CV   \n",
      "9             Diesel    95 000 - 99 999  Renault      Clio      6 CV   \n",
      "...              ...                ...      ...       ...       ...   \n",
      "87091         Diesel  190 000 - 199 999    Honda    Accord      8 CV   \n",
      "87094         Diesel  190 000 - 199 999     Jeep  Cherokee      8 CV   \n",
      "87097         Diesel  190 000 - 199 999  Renault    Kangoo      6 CV   \n",
      "87101         Diesel    55 000 - 59 999     Opel     Corsa      6 CV   \n",
      "87102         Diesel    60 000 - 64 999    Dacia     Logan      6 CV   \n",
      "\n",
      "            price  \n",
      "2      174 000 DH  \n",
      "4      239 000 DH  \n",
      "6       75 000 DH  \n",
      "7      194 000 DH  \n",
      "9      113 000 DH  \n",
      "...           ...  \n",
      "87091  112 000 DH  \n",
      "87094  184 000 DH  \n",
      "87097  110 000 DH  \n",
      "87101  160 000 DH  \n",
      "87102  156 000 DH  \n",
      "\n",
      "[34702 rows x 8 columns]\n"
     ]
    }
   ],
   "source": [
    "print(DataSet)"
   ]
  }
 ],
 "metadata": {
  "kernelspec": {
   "display_name": "Python 3",
   "language": "python",
   "name": "python3"
  },
  "language_info": {
   "codemirror_mode": {
    "name": "ipython",
    "version": 3
   },
   "file_extension": ".py",
   "mimetype": "text/x-python",
   "name": "python",
   "nbconvert_exporter": "python",
   "pygments_lexer": "ipython3",
   "version": "3.11.5"
  }
 },
 "nbformat": 4,
 "nbformat_minor": 5
}
