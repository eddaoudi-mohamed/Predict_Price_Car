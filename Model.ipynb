{
 "cells": [
  {
   "cell_type": "code",
   "execution_count": 1,
   "id": "240659a8",
   "metadata": {},
   "outputs": [],
   "source": [
    "import joblib\n",
    "import numpy as np\n",
    "import pandas as pd "
   ]
  },
  {
   "cell_type": "code",
   "execution_count": 2,
   "id": "0412f6ee",
   "metadata": {},
   "outputs": [],
   "source": [
    "preprocessor  = joblib.load('./Models/preprocessor.pkl')\n",
    "model = joblib.load('./Models/random_forest_model.pkl')"
   ]
  },
  {
   "cell_type": "code",
   "execution_count": 5,
   "id": "09598637",
   "metadata": {},
   "outputs": [],
   "source": [
    "new_car = pd.DataFrame([{\n",
    "    'year': 2020,\n",
    "    'puissance': 6,\n",
    "    'kilometrage': 105000 , \n",
    "    'type_boit': 'automatique',\n",
    "    'type_carburant': 'diesel',\n",
    "    'model': 'clio',\n",
    "    'marke': 'renault'\n",
    "}])\n",
    "\n",
    "# Transform\n",
    "X_transformed = preprocessor.transform(new_car).toarray()"
   ]
  },
  {
   "cell_type": "code",
   "execution_count": 6,
   "id": "ebf49ba1",
   "metadata": {},
   "outputs": [
    {
     "data": {
      "text/plain": [
       "array([140550.54001554])"
      ]
     },
     "execution_count": 6,
     "metadata": {},
     "output_type": "execute_result"
    }
   ],
   "source": [
    "model.predict(X_transformed)"
   ]
  }
 ],
 "metadata": {
  "kernelspec": {
   "display_name": "Python 3",
   "language": "python",
   "name": "python3"
  },
  "language_info": {
   "codemirror_mode": {
    "name": "ipython",
    "version": 3
   },
   "file_extension": ".py",
   "mimetype": "text/x-python",
   "name": "python",
   "nbconvert_exporter": "python",
   "pygments_lexer": "ipython3",
   "version": "3.11.5"
  }
 },
 "nbformat": 4,
 "nbformat_minor": 5
}
